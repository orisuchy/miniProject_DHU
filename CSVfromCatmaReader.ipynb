{
  "nbformat": 4,
  "nbformat_minor": 0,
  "metadata": {
    "colab": {
      "name": "CSVReader.ipynb",
      "provenance": [],
      "collapsed_sections": [
        "QgHBTmgsZ_k0"
      ]
    },
    "kernelspec": {
      "name": "python3",
      "display_name": "Python 3"
    },
    "language_info": {
      "name": "python"
    }
  },
  "cells": [
    {
      "cell_type": "markdown",
      "source": [
        "# **Catma to Vector CSV**"
      ],
      "metadata": {
        "id": "jhkkWQywyl0E"
      }
    },
    {
      "cell_type": "markdown",
      "source": [
        "## Functions to create new CSV based on Catma"
      ],
      "metadata": {
        "id": "QgHBTmgsZ_k0"
      }
    },
    {
      "cell_type": "code",
      "source": [
        "import pandas as pd\n",
        "from google.colab import files\n",
        "import os"
      ],
      "metadata": {
        "id": "pvJi9S1YzZDy"
      },
      "execution_count": null,
      "outputs": []
    },
    {
      "cell_type": "markdown",
      "source": [
        "Function to generate vectors CSV"
      ],
      "metadata": {
        "id": "O0hMKZeTA95W"
      }
    },
    {
      "cell_type": "code",
      "source": [
        "def generateVectorCSV(fileName):\n",
        "  df = pd.read_csv(fileName + \".csv\", sep=';', header=None, usecols=[2,4,10], names=[\"Story\", \"Sentence\", \"Type\"])\n",
        "  df['Type'] = df['Type'].str.replace('/','')\n",
        "  new_data = {\"Sentence\": df['Sentence'],\n",
        "               \"Descriptive\": [0] * len(df),\n",
        "               \"NotDescriptive\": [0] * len(df),\n",
        "               \"MightDescriptive\": [0] * len(df)}\n",
        "  for i, t in enumerate(df['Type']):\n",
        "    new_data[t][i] = 1\n",
        "\n",
        "  new_df = pd.DataFrame(new_data)\n",
        "  return new_df"
      ],
      "metadata": {
        "id": "Uo2-VHB8SJ52"
      },
      "execution_count": null,
      "outputs": []
    },
    {
      "cell_type": "markdown",
      "source": [
        "Function to generate labels CSV"
      ],
      "metadata": {
        "id": "Omb_XC3KBSqP"
      }
    },
    {
      "cell_type": "code",
      "source": [
        "def generateNewCSV(fileName):\n",
        "  df = pd.read_csv(fileName + \".csv\", sep=';', header=None, usecols=[2,4,10], names=[\"Story\", \"Sentence\", \"Type\"])\n",
        "  df['Type'] = df['Type'].str.replace('/','')\n",
        "  df['Type'] = df['Type'].str.replace('story','NotDescriptive')\n",
        "  df['Type'] = df['Type'].str.replace('decoration','Descriptive')\n",
        "  df['Type'] = df['Type'].str.replace('both','MightDescriptive')\n",
        "  return df"
      ],
      "metadata": {
        "id": "GEkRYcIKmPVR"
      },
      "execution_count": null,
      "outputs": []
    },
    {
      "cell_type": "code",
      "source": [
        "def downloadCSV(df, name):\n",
        "  df.to_csv(name + \"_new.csv\")\n",
        "  files.download(name + \"_new.csv\")"
      ],
      "metadata": {
        "id": "EdFHIGueZOEl"
      },
      "execution_count": null,
      "outputs": []
    },
    {
      "cell_type": "code",
      "source": [
        "def removeFiles(name):\n",
        "  if os.path.exists(name + \"_new.csv\"):\n",
        "    os.remove(name + \"_new.csv\")\n",
        "  if os.path.exists(name + \".csv\"):\n",
        "    os.remove(name + \".csv\")"
      ],
      "metadata": {
        "id": "eFrloZAHaobs"
      },
      "execution_count": null,
      "outputs": []
    },
    {
      "cell_type": "markdown",
      "source": [
        "## **Upload and generate**"
      ],
      "metadata": {
        "id": "b2jhowAyekuq"
      }
    },
    {
      "cell_type": "code",
      "source": [
        "uploaded = files.upload()"
      ],
      "metadata": {
        "id": "JWGY7K1UPeNv"
      },
      "execution_count": null,
      "outputs": []
    },
    {
      "cell_type": "code",
      "source": [
        "for fn in uploaded.keys():\n",
        "  fn = fn.replace('.csv', '')\n",
        "  new = generateNewCSV(fn)\n",
        "  downloadCSV(new, fn)"
      ],
      "metadata": {
        "id": "Bk59aY4BwQaI"
      },
      "execution_count": null,
      "outputs": []
    },
    {
      "cell_type": "code",
      "source": [
        "new"
      ],
      "metadata": {
        "id": "gjeQ7AwUXn9I"
      },
      "execution_count": null,
      "outputs": []
    },
    {
      "cell_type": "markdown",
      "source": [
        "Remove files"
      ],
      "metadata": {
        "id": "YRhKA9_FfSjB"
      }
    },
    {
      "cell_type": "code",
      "source": [
        "  removeFiles(fn)"
      ],
      "metadata": {
        "id": "ymP1F_gjfL5C"
      },
      "execution_count": null,
      "outputs": []
    }
  ]
}